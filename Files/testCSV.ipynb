{
 "cells": [
  {
   "cell_type": "code",
   "execution_count": 1,
   "id": "0f5537a3-2344-496b-8d18-f3ab5e14f60e",
   "metadata": {},
   "outputs": [],
   "source": [
    "import numpy as np\n",
    "from keras.datasets import mnist\n",
    "from tools import *"
   ]
  },
  {
   "cell_type": "code",
   "execution_count": 2,
   "id": "0254bddb-4ead-4541-b1ab-f5411841ce71",
   "metadata": {},
   "outputs": [],
   "source": [
    "w1 = np.genfromtxt('../w1.csv', delimiter=',')\n",
    "w2 = np.genfromtxt('../w2.csv', delimiter=',')"
   ]
  },
  {
   "cell_type": "code",
   "execution_count": 3,
   "id": "afd75610-5fc6-4731-8194-c029b26e302a",
   "metadata": {},
   "outputs": [],
   "source": [
    "# import data\n",
    "(x_train, y_train), (x_test, y_test) = mnist.load_data()\n",
    "\n",
    "# format data\n",
    "x_train = x_train.reshape(60000,784)/255\n",
    "x_test = x_test.reshape(10000,784)/255"
   ]
  },
  {
   "cell_type": "code",
   "execution_count": 4,
   "id": "33d41c53-74bc-4779-8fa8-3aee4d5b70eb",
   "metadata": {},
   "outputs": [
    {
     "name": "stdout",
     "output_type": "stream",
     "text": [
      "0.7915\n"
     ]
    }
   ],
   "source": [
    "samples = len(x_test)\n",
    "# samples = 1\n",
    "numWrong = 0\n",
    "\n",
    "for i in range(samples):\n",
    "    \n",
    "    # format y for the sample\n",
    "    expected = y_test[i] # answer\n",
    "    y = np.zeros(10)\n",
    "    y[expected-1] = 1 # expected value\n",
    "    \n",
    "    # find the values for each node\n",
    "    x1 = x_test[i] # sample 1 attributes (784)\n",
    "    z1 = np.dot(x1,w1)\n",
    "\n",
    "    x2 = sigmoid(z1)\n",
    "    z2 = np.dot(x2,w2)\n",
    "\n",
    "    x3 = sigmoid(z2)\n",
    "    \n",
    "    predicted = np.argmax(x3)+1\n",
    "    \n",
    "    if(predicted != expected):\n",
    "        numWrong += 1\n",
    "        \n",
    "accuracy = (samples-numWrong)/samples\n",
    "print(accuracy)"
   ]
  },
  {
   "cell_type": "code",
   "execution_count": null,
   "id": "169269fd-5b8f-421c-b00f-2eaf6768c8a9",
   "metadata": {},
   "outputs": [],
   "source": []
  }
 ],
 "metadata": {
  "kernelspec": {
   "display_name": "Python 3 (ipykernel)",
   "language": "python",
   "name": "python3"
  },
  "language_info": {
   "codemirror_mode": {
    "name": "ipython",
    "version": 3
   },
   "file_extension": ".py",
   "mimetype": "text/x-python",
   "name": "python",
   "nbconvert_exporter": "python",
   "pygments_lexer": "ipython3",
   "version": "3.10.5"
  }
 },
 "nbformat": 4,
 "nbformat_minor": 5
}
