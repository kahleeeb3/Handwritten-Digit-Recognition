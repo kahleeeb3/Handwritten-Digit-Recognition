{
 "cells": [
  {
   "cell_type": "markdown",
   "id": "bdf59b7c-3f72-46ed-98f0-33712086f85e",
   "metadata": {
    "tags": []
   },
   "source": [
    "## Importing Data"
   ]
  },
  {
   "cell_type": "code",
   "execution_count": 1,
   "id": "8a6b0bb0-3ea0-4b34-8a2e-9ad7422eadbe",
   "metadata": {},
   "outputs": [
    {
     "name": "stdout",
     "output_type": "stream",
     "text": [
      "(60000, 28, 28)\n",
      "(60000,)\n",
      "(10000, 28, 28)\n",
      "(10000,)\n"
     ]
    }
   ],
   "source": [
    "from keras.datasets import mnist\n",
    "\n",
    "# This takes a while because it's a large dataset\n",
    "(x_train, y_train), (x_test, y_test) = mnist.load_data()\n",
    "\n",
    "print(x_train.shape)\n",
    "print(y_train.shape)\n",
    "\n",
    "print(x_test.shape)\n",
    "print(y_test.shape)"
   ]
  },
  {
   "cell_type": "code",
   "execution_count": 2,
   "id": "7e4fcb7f-acb4-4e0a-bf07-daa25dfd96ee",
   "metadata": {},
   "outputs": [
    {
     "name": "stdout",
     "output_type": "stream",
     "text": [
      "(28, 28)\n",
      "<class 'numpy.ndarray'>\n",
      "This sample is a handwritten digit number: 5\n"
     ]
    }
   ],
   "source": [
    "# a single image of a digit\n",
    "image1 = x_train[0]\n",
    "print(image1.shape)\n",
    "print(type(image1))\n",
    "print(f\"This sample is a handwritten digit number: {y_train[0]}\")"
   ]
  },
  {
   "cell_type": "markdown",
   "id": "ff46280e-ce17-4d05-b8fa-2d1f4a31a51f",
   "metadata": {},
   "source": [
    "Each image is a 28x28 numpy ndarray. The value of each index is 0-255. The value of 255 represents a black pixel.\n",
    "\n",
    "- x_train: uint8 NumPy array of grayscale image data with shapes (60000, 28, 28), containing the training data. Pixel values range from 0 to 255.\n",
    "\n",
    "- y_train: uint8 NumPy array of digit labels (integers in range 0-9) with shape (60000,) for the training data.\n",
    "\n",
    "- x_test: uint8 NumPy array of grayscale image data with shapes (10000, 28, 28), containing the test data. Pixel values range from 0 to 255.\n",
    "\n",
    "- y_test: uint8 NumPy array of digit labels (integers in range 0-9) with shape (10000,) for the test data."
   ]
  },
  {
   "cell_type": "markdown",
   "id": "cba2528b-721e-41ca-94a3-5f47ded7ab54",
   "metadata": {
    "jp-MarkdownHeadingCollapsed": true,
    "tags": []
   },
   "source": [
    "## Viewing the Sample as an Image"
   ]
  },
  {
   "cell_type": "code",
   "execution_count": 3,
   "id": "dcb8c383-bc23-4e6c-b322-80782bf76c01",
   "metadata": {},
   "outputs": [
    {
     "data": {
      "image/png": "[encoded data removed]",
      "text/plain": [
       "<PIL.Image.Image image mode=L size=28x28>"
      ]
     },
     "execution_count": 3,
     "metadata": {},
     "output_type": "execute_result"
    }
   ],
   "source": [
    "from PIL import Image\n",
    "import numpy as np\n",
    "img = Image.fromarray(image1, 'L')\n",
    "img # show the image"
   ]
  },
  {
   "cell_type": "markdown",
   "id": "6c5deb34-3f38-4501-8795-b6c0e45f749f",
   "metadata": {
    "tags": []
   },
   "source": [
    "## Format the Data"
   ]
  },
  {
   "cell_type": "code",
   "execution_count": 4,
   "id": "35c2a581-5838-4211-b8ed-d90db1cbe290",
   "metadata": {},
   "outputs": [
    {
     "name": "stdout",
     "output_type": "stream",
     "text": [
      "(60000, 784)\n",
      "(10000, 784)\n"
     ]
    }
   ],
   "source": [
    "x_train = x_train.reshape(60000,784)/255\n",
    "x_test = x_test.reshape(10000,784)/255\n",
    "print(x_train.shape)\n",
    "print(x_test.shape)"
   ]
  },
  {
   "cell_type": "markdown",
   "id": "a4d6243e-ec95-4fbe-839d-04d835f9aa91",
   "metadata": {},
   "source": [
    "Each 2D image is now a 1D vector with dimension (1, 28x28) = (1, 784). The value of each pixel is divided by 255 so that each value is now between 0-1."
   ]
  },
  {
   "cell_type": "markdown",
   "id": "1de20a6b-d8e6-46a0-90a6-d04edbdadcf9",
   "metadata": {
    "tags": []
   },
   "source": [
    "## Sources"
   ]
  },
  {
   "cell_type": "markdown",
   "id": "95b6049f-fcd5-4e79-b49a-72c0a13d1897",
   "metadata": {},
   "source": [
    "<a href=\"http://yann.lecun.com/exdb/mnist/\">MNIST homepage</a>\n",
    "\n",
    "<a href=\"https://github.com/kahleeeb3/ML-Project\">ML-Project</a>\n",
    "\n",
    "<a href=\"https://keras.io/api/datasets/mnist/\">Keras API reference MNIST</a>"
   ]
  },
  {
   "cell_type": "markdown",
   "id": "d0b47660-a8da-441d-b800-f18a0352df6d",
   "metadata": {
    "tags": []
   },
   "source": [
    "## Model Training"
   ]
  },
  {
   "cell_type": "markdown",
   "id": "50a7bf9c-a2f2-461d-b596-94a8cf82ae6a",
   "metadata": {},
   "source": [
    "We want to minimize the cost function:\n",
    "$$E = \\sum_{d \\in D} (o_d-t_d)^2$$\n",
    "where $o_d$ is the value we predicted and $t_d$ is the target value. Minimizing this cost function is the same as minimizing:\n",
    "$$E = \\frac{1}{2}\\sum_{d \\in D} (o_d-t_d)^2$$.\n",
    "We can minimize this function by taking the **Gradient Descent** which for the sigmoid function is:\n",
    "$$ \\frac{\\partial E}{\\partial i} =  -\\sum_{d \\in D} (t_d-o_d)o_d(1-o_d)x_{i,d}$$\n",
    "where $x_{i,d}$ is the attribute value. We then use the following update rule\n",
    "$$w_i^{t+1} = w_i^{t} \\eta \\nabla E[w]$$"
   ]
  },
  {
   "cell_type": "code",
   "execution_count": 5,
   "id": "adb0cca8-26ec-4b2c-9528-fc4891a1d98b",
   "metadata": {},
   "outputs": [],
   "source": [
    "nodes = 128 # number of nodes in the hidden layer\n",
    "eta = 1 # learning rate\n",
    "\n",
    "# need to initialize weights and biases to a random value that is \n",
    "# uniformly distributed over the half-open interval [-1, 1).\n",
    "\n",
    "w1 = np.random.uniform(-1,1,size=(28*28,nodes)) # size (784, nodes)\n",
    "w2 = np.random.uniform(-1,1,size=(nodes,10)) # size (nodes, 10)"
   ]
  },
  {
   "cell_type": "code",
   "execution_count": 6,
   "id": "41cf9189-f1dc-42de-9a12-069fd243d038",
   "metadata": {},
   "outputs": [],
   "source": [
    "#Sigmoid funstion\n",
    "def sigmoid(x):\n",
    "    return 1/(np.exp(-x)+1)    \n",
    "\n",
    "#derivative of sigmoid\n",
    "def d_sigmoid(x):\n",
    "    return (np.exp(-x))/((np.exp(-x)+1)**2)\n",
    "\n",
    "#Softmax\n",
    "def softmax(x):\n",
    "    exp_element=np.exp(x-x.max())\n",
    "    return exp_element/np.sum(exp_element,axis=0)\n",
    "\n",
    "#derivative of softmax\n",
    "def d_softmax(x):\n",
    "    exp_element=np.exp(x-x.max())\n",
    "    return exp_element/np.sum(exp_element,axis=0)*(1-exp_element/np.sum(exp_element,axis=0))"
   ]
  },
  {
   "cell_type": "code",
   "execution_count": 7,
   "id": "589c6af3-e1b7-4680-82af-1406cae6afe1",
   "metadata": {},
   "outputs": [
    {
     "name": "stdout",
     "output_type": "stream",
     "text": [
      "[0. 0. 0. 0. 1. 0. 0. 0. 0. 0.]\n"
     ]
    }
   ],
   "source": [
    "# lets do a single example\n",
    "y = np.zeros(10)\n",
    "y[y_train[0]-1] = 1 # sample 1 label (5)\n",
    "print(y)"
   ]
  },
  {
   "cell_type": "markdown",
   "id": "becb2d50-d4dd-4f8e-9b9a-9fa2842aaf31",
   "metadata": {},
   "source": [
    "The update rule states that\n",
    "$$w_{i,j} = w_{i,j}+\\Delta w_{i,j}$$\n",
    "\n",
    "Since we know,\n",
    "$$\\Delta w_{i,j} = \\eta \\delta_{j}x_{i,j}$$\n",
    "\n",
    "then the update rule follows below\n",
    "$$w_{i,j} = w_{i,j}+\\eta \\delta_{j}x_{i,j}$$\n",
    "\n",
    "for the output layer:\n",
    "$$\\delta_{k} = o_k(1-o_k)(t_k-o_k)$$\n",
    "\n",
    "for the hidden layer:\n",
    "$$\\delta_{h} = o_h(1-o_h) \\sum_{k\\in outputs}w_{h,k}\\delta_k$$"
   ]
  },
  {
   "cell_type": "markdown",
   "id": "407d5bc8-8238-4664-a3e7-c0d4576e7db0",
   "metadata": {
    "tags": []
   },
   "source": [
    "### Translate"
   ]
  },
  {
   "cell_type": "markdown",
   "id": "dfcf01b2-ada7-46cd-a83d-203a64798b0e",
   "metadata": {},
   "source": [
    "For the output layer, the update rule follows below\n",
    "$$w^{(2)}_{i,j} = w^{(2)}_{i,j}+\\eta\\delta_{j}x_{i,j}$$\n",
    "\n",
    "<!-- $$\\delta_{2} = a^{(2)}\\left(1 - a^{(2)}\\right)\\left(y -a^{(2)}\\right)$$ -->\n",
    "\n",
    "$$\\delta_{k} = o_k(1-o_k)(t_k-o_k)$$"
   ]
  },
  {
   "cell_type": "code",
   "execution_count": 8,
   "id": "aa9cbfbd-0e2a-49bc-bd3c-bff078542299",
   "metadata": {},
   "outputs": [],
   "source": [
    "x1 = x_train[0] # sample 1 attributes (784)\n",
    "z1 = np.dot(x1,w1)\n",
    "\n",
    "x2 = sigmoid(z1)\n",
    "z2 = np.dot(x2,w2)\n",
    "\n",
    "x3 = sigmoid(z2)"
   ]
  },
  {
   "cell_type": "code",
   "execution_count": 22,
   "id": "cc043309-119b-40a8-bbad-f7109a7a4b6a",
   "metadata": {},
   "outputs": [],
   "source": [
    "# update d2\n",
    "dk = x3*(1-x3)*(y-x3)\n",
    "dw2 = eta*np.dot(x2[:,None],dk[None,:]) # eta* (dk.x2)\n",
    "# w2 = w2+dw2\n",
    "\n",
    "# update d1\n",
    "dh = x2*(1-x2)*np.sum(np.dot(w2,dk))\n",
    "dw1 = eta*np.dot(x1[:,None],dh[None,:]) # eta* (dh.x1)\n",
    "w1 = w1 + dw2"
   ]
  },
  {
   "cell_type": "raw",
   "id": "00dc5d4b-e916-434e-9e9e-117c7c96ec9a",
   "metadata": {},
   "source": [
    "# update w2\n",
    "cost = (1/10)*(x3-y)*d_softmax(z2) # Cost = (1/m)(x3-y)*f(z)\n",
    "error = np.dot(x2[:,None],cost[None,:]) # error = cost*x2\n",
    "dw2 = w2 + (eta*error)\n",
    "\n",
    "# update w1\n",
    "a = np.dot(w2,cost)\n",
    "b = d_sigmoid(x1)\n",
    "error=np.dot(b[:,None],a[None,:])\n",
    "dw1 = w1 + (eta*error) "
   ]
  },
  {
   "attachments": {
    "b5dc8a28-ef37-49e0-b4bf-7b62df76d6eb.png": {
     "image/png": "[encoded data removed]"
    }
   },
   "cell_type": "markdown",
   "id": "27ced179-e5d6-43d4-9c7b-4f7a00795b48",
   "metadata": {},
   "source": [
    "![image.png](attachment:b5dc8a28-ef37-49e0-b4bf-7b62df76d6eb.png)"
   ]
  },
  {
   "cell_type": "code",
   "execution_count": 5,
   "id": "a2f95de3-9723-4e94-9c87-da77ed359c0c",
   "metadata": {},
   "outputs": [
    {
     "data": {
      "text/plain": [
       "(784, 100)"
      ]
     },
     "execution_count": 5,
     "metadata": {},
     "output_type": "execute_result"
    }
   ],
   "source": []
  },
  {
   "cell_type": "code",
   "execution_count": null,
   "id": "3e52939a-bc9f-46fa-92ed-a1664a260a78",
   "metadata": {},
   "outputs": [],
   "source": []
  }
 ],
 "metadata": {
  "kernelspec": {
   "display_name": "Python 3 (ipykernel)",
   "language": "python",
   "name": "python3"
  },
  "language_info": {
   "codemirror_mode": {
    "name": "ipython",
    "version": 3
   },
   "file_extension": ".py",
   "mimetype": "text/x-python",
   "name": "python",
   "nbconvert_exporter": "python",
   "pygments_lexer": "ipython3",
   "version": "3.10.5"
  }
 },
 "nbformat": 4,
 "nbformat_minor": 5
}
