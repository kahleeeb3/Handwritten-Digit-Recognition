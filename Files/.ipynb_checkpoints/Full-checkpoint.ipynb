{
 "cells": [
  {
   "cell_type": "code",
   "execution_count": 1,
   "id": "73fc5fc5-2e77-484d-97b7-4d7e657eceac",
   "metadata": {},
   "outputs": [],
   "source": [
    "from keras.datasets import mnist\n",
    "from tools import *\n",
    "import numpy as np"
   ]
  },
  {
   "cell_type": "code",
   "execution_count": 2,
   "id": "9337cd57-ea34-4435-b656-0e48c7c8b693",
   "metadata": {},
   "outputs": [],
   "source": [
    "# import data\n",
    "(x_train, y_train), (x_test, y_test) = mnist.load_data()\n",
    "\n",
    "# format data\n",
    "x_train = x_train.reshape(60000,784)/255\n",
    "x_test = x_test.reshape(10000,784)/255"
   ]
  },
  {
   "cell_type": "code",
   "execution_count": 3,
   "id": "47037abd-23af-4ba2-b5e7-8d2ad48f555a",
   "metadata": {
    "jupyter": {
     "source_hidden": true
    },
    "tags": []
   },
   "outputs": [],
   "source": [
    "# def backPropagation():\n",
    "#     # update w2\n",
    "#     cost = (1/10)*(x3-y)*d_softmax(z2) # Cost = (1/m)(x3-y)*f(z)\n",
    "#     error = np.dot(x2[:,None],cost[None,:]) # error = cost*x2\n",
    "#     dw2 = w2 + (eta*error)\n",
    "\n",
    "#     # update w1\n",
    "#     a = np.dot(w2,cost)\n",
    "#     b = d_sigmoid(x1)\n",
    "#     error=np.dot(b[:,None],a[None,:])\n",
    "#     dw1 = w1 + (eta*error)\n",
    "    \n",
    "#     return dw1,dw2"
   ]
  },
  {
   "cell_type": "code",
   "execution_count": 4,
   "id": "a64e08fb-0d59-44a8-88bd-9a3a61ac2478",
   "metadata": {
    "tags": []
   },
   "outputs": [],
   "source": [
    "epochs = 50 # number of epochs\n",
    "nodes = 250 # number of nodes in the hidden layer\n",
    "eta = 5e-5 # learning rate\n",
    "\n",
    "# need to initialize weights and biases to a random value that is\n",
    "# uniformly distributed over the half-open interval [-1, 1).\n",
    "\n",
    "w1 = np.random.uniform(-1,1,size=(28*28,nodes)) # size (784, nodes)\n",
    "w2 = np.random.uniform(-1,1,size=(nodes,10)) # size (nodes, 10)"
   ]
  },
  {
   "cell_type": "code",
   "execution_count": 5,
   "id": "41fe04a4-0d1f-4ea3-af4c-076b7e91ae42",
   "metadata": {},
   "outputs": [
    {
     "name": "stdout",
     "output_type": "stream",
     "text": [
      "Ran Epoch 0\n",
      "Ran Epoch 1\n",
      "Ran Epoch 2\n"
     ]
    },
    {
     "ename": "KeyboardInterrupt",
     "evalue": "",
     "output_type": "error",
     "traceback": [
      "\u001b[1;31m---------------------------------------------------------------------------\u001b[0m",
      "\u001b[1;31mKeyboardInterrupt\u001b[0m                         Traceback (most recent call last)",
      "\u001b[1;32m~\\AppData\\Local\\Temp\\ipykernel_12116\\3415201302.py\u001b[0m in \u001b[0;36m<cell line: 3>\u001b[1;34m()\u001b[0m\n\u001b[0;32m     28\u001b[0m \u001b[1;33m\u001b[0m\u001b[0m\n\u001b[0;32m     29\u001b[0m         \u001b[0mw1\u001b[0m \u001b[1;33m=\u001b[0m \u001b[0mw1\u001b[0m\u001b[1;33m+\u001b[0m\u001b[0mdw1\u001b[0m\u001b[1;33m\u001b[0m\u001b[1;33m\u001b[0m\u001b[0m\n\u001b[1;32m---> 30\u001b[1;33m         \u001b[0mw2\u001b[0m \u001b[1;33m=\u001b[0m \u001b[0mw2\u001b[0m\u001b[1;33m+\u001b[0m\u001b[0mdw2\u001b[0m\u001b[1;33m\u001b[0m\u001b[1;33m\u001b[0m\u001b[0m\n\u001b[0m\u001b[0;32m     31\u001b[0m \u001b[1;33m\u001b[0m\u001b[0m\n\u001b[0;32m     32\u001b[0m     \u001b[0mprint\u001b[0m\u001b[1;33m(\u001b[0m\u001b[1;34mf\"Ran Epoch {e}\"\u001b[0m\u001b[1;33m)\u001b[0m\u001b[1;33m\u001b[0m\u001b[1;33m\u001b[0m\u001b[0m\n",
      "\u001b[1;31mKeyboardInterrupt\u001b[0m: "
     ]
    }
   ],
   "source": [
    "samples = len(x_train)\n",
    "\n",
    "for e in range(epochs):\n",
    "    for i in range(samples):\n",
    "\n",
    "        # format y for the sample\n",
    "        expected = y_train[i] # answer\n",
    "        y = np.zeros(10)\n",
    "        y[expected-1] = 1 # expected value\n",
    "\n",
    "        # find the values for each node\n",
    "        x1 = x_train[i] # sample 1 attributes (784)\n",
    "        z1 = np.dot(x1,w1)\n",
    "\n",
    "        x2 = sigmoid(z1)\n",
    "        z2 = np.dot(x2,w2)\n",
    "\n",
    "        x3 = sigmoid(z2)\n",
    "                \n",
    "        # update d2\n",
    "        dk = x3*(1-x3)*(y-x3)\n",
    "        dw2 = eta*np.dot(x2[:,None],dk[None,:]) # eta* (dk.x2)\n",
    "\n",
    "\n",
    "        # update d1\n",
    "        dh = x2*(1-x2)*np.sum(np.dot(w2,dk))\n",
    "        dw1 = eta*np.dot(x1[:,None],dh[None,:]) # eta* (dh.x1)\n",
    "\n",
    "        w1 = w1+dw1\n",
    "        w2 = w2+dw2\n",
    "        \n",
    "    print(f\"Ran Epoch {e}\")"
   ]
  },
  {
   "cell_type": "markdown",
   "id": "82dcb5b3-93de-402d-9cd7-13889435f96a",
   "metadata": {},
   "source": [
    "## Find Accuracy"
   ]
  },
  {
   "cell_type": "code",
   "execution_count": null,
   "id": "4d8c62b2-e071-4795-97dd-c943c4746bbf",
   "metadata": {},
   "outputs": [],
   "source": [
    "samples = len(x_test)\n",
    "# samples = 1\n",
    "numWrong = 0\n",
    "\n",
    "for i in range(samples):\n",
    "    \n",
    "    # format y for the sample\n",
    "    expected = y_test[i] # answer\n",
    "    y = np.zeros(10)\n",
    "    y[expected-1] = 1 # expected value\n",
    "    \n",
    "    # find the values for each node\n",
    "    x1 = x_test[i] # sample 1 attributes (784)\n",
    "    z1 = np.dot(x1,w1)\n",
    "\n",
    "    x2 = sigmoid(z1)\n",
    "    z2 = np.dot(x2,w2)\n",
    "\n",
    "    x3 = sigmoid(z2)\n",
    "    \n",
    "    predicted = np.argmax(x3)+1\n",
    "    \n",
    "    if(predicted != expected):\n",
    "        numWrong += 1\n",
    "        \n",
    "accuracy = (samples-numWrong)/samples\n",
    "print(accuracy)"
   ]
  },
  {
   "cell_type": "markdown",
   "id": "a99945bc-5243-4357-9066-36e6c123d0af",
   "metadata": {},
   "source": [
    "1: 0.1925\n",
    "\n",
    "10: 0.522\n",
    "\n",
    "20: "
   ]
  },
  {
   "cell_type": "code",
   "execution_count": null,
   "id": "cbeb363c-8280-49df-80cf-edd0adc8df6e",
   "metadata": {},
   "outputs": [],
   "source": []
  }
 ],
 "metadata": {
  "kernelspec": {
   "display_name": "Python 3 (ipykernel)",
   "language": "python",
   "name": "python3"
  },
  "language_info": {
   "codemirror_mode": {
    "name": "ipython",
    "version": 3
   },
   "file_extension": ".py",
   "mimetype": "text/x-python",
   "name": "python",
   "nbconvert_exporter": "python",
   "pygments_lexer": "ipython3",
   "version": "3.10.5"
  }
 },
 "nbformat": 4,
 "nbformat_minor": 5
}
